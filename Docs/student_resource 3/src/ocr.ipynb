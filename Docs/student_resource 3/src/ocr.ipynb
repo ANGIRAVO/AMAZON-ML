{
 "cells": [
  {
   "cell_type": "code",
   "execution_count": 5,
   "metadata": {},
   "outputs": [
    {
     "name": "stderr",
     "output_type": "stream",
     "text": [
      "Neither CUDA nor MPS are available - defaulting to CPU. Note: This module is much faster with a GPU.\n",
      "100%|██████████| 54/54 [09:40<00:00, 10.76s/it]"
     ]
    },
    {
     "name": "stdout",
     "output_type": "stream",
     "text": [
      "CSV file 'predictions.csv' has been created with the predictions.\n"
     ]
    },
    {
     "name": "stderr",
     "output_type": "stream",
     "text": [
      "\n"
     ]
    }
   ],
   "source": [
    "import easyocr\n",
    "import cv2\n",
    "from tqdm import tqdm\n",
    "import os\n",
    "import csv\n",
    "import re\n",
    "\n",
    "reader = easyocr.Reader(['en'], gpu=True)\n",
    "\n",
    "def extract_text_from_image(image_path):\n",
    "    image = cv2.imread(image_path)\n",
    "    results = reader.readtext(image)\n",
    "    extracted_text = ' '.join([result[1] for result in results])\n",
    "    return extracted_text\n",
    "\n",
    "def parse_measurement(text):\n",
    "    # Expanded pattern to catch more variations\n",
    "    pattern = r'(\\d+(?:\\.\\d+)?)\\s*(gram|centimetre|ounce|kilogram|g|cm|oz|kg|foot|ft|inch|in|metre|m|millimetre|mm|ton|t|volt|v|watt|w|kilovolt|kv|kilowatt|kw|pound|lb|yard|yd|millivolt|mv|microgram|μg)'\n",
    "    match = re.search(pattern, text.lower())\n",
    "    if match:\n",
    "        value, unit = match.groups()\n",
    "        # Normalize units\n",
    "        unit_map = {\n",
    "            'g': 'gram', 'cm': 'centimetre', 'oz': 'ounce', 'kg': 'kilogram',\n",
    "            'ft': 'foot', 'in': 'inch', 'm': 'metre', 'mm': 'millimetre',\n",
    "            't': 'ton', 'v': 'volt', 'w': 'watt', 'kv': 'kilovolt',\n",
    "            'kw': 'kilowatt', 'lb': 'pound', 'yd': 'yard', 'mv': 'millivolt',\n",
    "            'μg': 'microgram'\n",
    "        }\n",
    "        unit = unit_map.get(unit, unit)\n",
    "        return f\"{float(value)} {unit}\"\n",
    "    return \"\"\n",
    "\n",
    "image_folder = '../images'\n",
    "output_file = 'predictions.csv'\n",
    "\n",
    "with open(output_file, 'w', newline='') as csvfile:\n",
    "    writer = csv.writer(csvfile)\n",
    "    writer.writerow(['index', 'prediction'])\n",
    "    \n",
    "    for index, file in enumerate(tqdm(os.listdir(image_folder))):\n",
    "        image_path = os.path.join(image_folder, file)\n",
    "        try:\n",
    "            extracted_text = extract_text_from_image(image_path)\n",
    "            prediction = parse_measurement(extracted_text)\n",
    "        except Exception as e:\n",
    "            print(f\"Error processing {file}: {str(e)}\")\n",
    "            prediction = \"\"\n",
    "        writer.writerow([index, prediction])\n",
    "\n",
    "print(f\"CSV file '{output_file}' has been created with the predictions.\")"
   ]
  }
 ],
 "metadata": {
  "kernelspec": {
   "display_name": "Python 3",
   "language": "python",
   "name": "python3"
  },
  "language_info": {
   "codemirror_mode": {
    "name": "ipython",
    "version": 3
   },
   "file_extension": ".py",
   "mimetype": "text/x-python",
   "name": "python",
   "nbconvert_exporter": "python",
   "pygments_lexer": "ipython3",
   "version": "3.12.3"
  }
 },
 "nbformat": 4,
 "nbformat_minor": 2
}
