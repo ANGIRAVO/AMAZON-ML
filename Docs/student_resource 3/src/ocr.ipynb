{
 "cells": [
  {
   "cell_type": "code",
   "execution_count": 1,
   "metadata": {},
   "outputs": [
    {
     "name": "stderr",
     "output_type": "stream",
     "text": [
      "Neither CUDA nor MPS are available - defaulting to CPU. Note: This module is much faster with a GPU.\n",
      "d:\\Python\\Lib\\site-packages\\easyocr\\detection.py:78: FutureWarning: You are using `torch.load` with `weights_only=False` (the current default value), which uses the default pickle module implicitly. It is possible to construct malicious pickle data which will execute arbitrary code during unpickling (See https://github.com/pytorch/pytorch/blob/main/SECURITY.md#untrusted-models for more details). In a future release, the default value for `weights_only` will be flipped to `True`. This limits the functions that could be executed during unpickling. Arbitrary objects will no longer be allowed to be loaded via this mode unless they are explicitly allowlisted by the user via `torch.serialization.add_safe_globals`. We recommend you start setting `weights_only=True` for any use case where you don't have full control of the loaded file. Please open an issue on GitHub for any issues related to this experimental feature.\n",
      "  net.load_state_dict(copyStateDict(torch.load(trained_model, map_location=device)))\n",
      "d:\\Python\\Lib\\site-packages\\easyocr\\recognition.py:169: FutureWarning: You are using `torch.load` with `weights_only=False` (the current default value), which uses the default pickle module implicitly. It is possible to construct malicious pickle data which will execute arbitrary code during unpickling (See https://github.com/pytorch/pytorch/blob/main/SECURITY.md#untrusted-models for more details). In a future release, the default value for `weights_only` will be flipped to `True`. This limits the functions that could be executed during unpickling. Arbitrary objects will no longer be allowed to be loaded via this mode unless they are explicitly allowlisted by the user via `torch.serialization.add_safe_globals`. We recommend you start setting `weights_only=True` for any use case where you don't have full control of the loaded file. Please open an issue on GitHub for any issues related to this experimental feature.\n",
      "  state_dict = torch.load(model_path, map_location=device)\n",
      "100%|██████████| 54/54 [06:02<00:00,  6.71s/it]"
     ]
    },
    {
     "name": "stdout",
     "output_type": "stream",
     "text": [
      "CSV file 'test_out.csv' has been created with the predictions.\n"
     ]
    },
    {
     "name": "stderr",
     "output_type": "stream",
     "text": [
      "\n"
     ]
    }
   ],
   "source": [
    "import easyocr\n",
    "import cv2\n",
    "from tqdm import tqdm\n",
    "import os\n",
    "import csv\n",
    "import re\n",
    "\n",
    "reader = easyocr.Reader(['en'], gpu=True)\n",
    "\n",
    "def extract_text_from_image(image_path):\n",
    "    image = cv2.imread(image_path)\n",
    "    results = reader.readtext(image)\n",
    "    extracted_text = ' '.join([result[1] for result in results])\n",
    "    return extracted_text\n",
    "\n",
    "def parse_measurement(text):\n",
    "    # Expanded pattern to catch more variations\n",
    "    pattern = r'(\\d+(?:\\.\\d+)?)\\s*(gram|centimetre|ounce|kilogram|g|cm|oz|kg|foot|ft|inch|in|metre|m|millimetre|mm|ton|t|volt|v|watt|w|kilovolt|kv|kilowatt|kw|pound|lb|yard|yd|millivolt|mv|microgram|μg)'\n",
    "    match = re.search(pattern, text.lower())\n",
    "    if match:\n",
    "        value, unit = match.groups()\n",
    "        # Normalize units\n",
    "        unit_map = {\n",
    "            'g': 'gram', 'cm': 'centimetre', 'oz': 'ounce', 'kg': 'kilogram',\n",
    "            'ft': 'foot', 'in': 'inch', 'm': 'metre', 'mm': 'millimetre',\n",
    "            't': 'ton', 'v': 'volt', 'w': 'watt', 'kv': 'kilovolt',\n",
    "            'kw': 'kilowatt', 'lb': 'pound', 'yd': 'yard', 'mv': 'millivolt',\n",
    "            'μg': 'microgram'\n",
    "        }\n",
    "        unit = unit_map.get(unit, unit)\n",
    "        return f\"{float(value)} {unit}\"\n",
    "    return \"\"\n",
    "\n",
    "image_folder = '../images'\n",
    "output_file = 'test_out.csv'\n",
    "\n",
    "with open(output_file, 'w', newline='') as csvfile:\n",
    "    writer = csv.writer(csvfile)\n",
    "    writer.writerow(['index', 'prediction'])\n",
    "    \n",
    "    for index, file in enumerate(tqdm(os.listdir(image_folder))):\n",
    "        image_path = os.path.join(image_folder, file)\n",
    "        try:\n",
    "            extracted_text = extract_text_from_image(image_path)\n",
    "            prediction = parse_measurement(extracted_text)\n",
    "        except Exception as e:\n",
    "            print(f\"Error processing {file}: {str(e)}\")\n",
    "            prediction = \"\"\n",
    "        writer.writerow([index, prediction])\n",
    "\n",
    "print(f\"CSV file '{output_file}' has been created with the predictions.\")"
   ]
  },
  {
   "cell_type": "code",
   "execution_count": null,
   "metadata": {},
   "outputs": [],
   "source": [
    "import pandas as pd\n",
    "from sklearn.metrics import f1_score\n",
    "import numpy as np\n",
    "\n",
    "def normalize_prediction(pred):\n",
    "    if not pred:\n",
    "        return \"\"\n",
    "    parts = pred.split()\n",
    "    if len(parts) != 2:\n",
    "        return \"\"\n",
    "    try:\n",
    "        value = float(parts[0])\n",
    "        unit = parts[1]\n",
    "        return f\"{value:.2f} {unit}\"\n",
    "    except ValueError:\n",
    "        return \"\"\n",
    "\n",
    "# Load the predictions and ground truth\n",
    "predictions_df = pd.read_csv('test_out.csv')\n",
    "ground_truth_df = pd.read_csv('../test.csv')  # Adjust the path as needed\n",
    "\n",
    "# Ensure the dataframes are sorted by index\n",
    "predictions_df = predictions_df.sort_values('index').reset_index(drop=True)\n",
    "ground_truth_df = ground_truth_df.sort_values('index').reset_index(drop=True)\n",
    "\n",
    "# Normalize predictions and ground truth\n",
    "predictions_df['normalized_prediction'] = predictions_df['prediction'].apply(normalize_prediction)\n",
    "ground_truth_df['normalized_ground_truth'] = ground_truth_df['measurement'].apply(normalize_prediction)\n",
    "\n",
    "# Create binary labels (1 for non-empty predictions, 0 for empty)\n",
    "y_true = (ground_truth_df['normalized_ground_truth'] != \"\").astype(int)\n",
    "y_pred = (predictions_df['normalized_prediction'] != \"\").astype(int)\n",
    "\n",
    "# Calculate F1 score\n",
    "f1 = f1_score(y_true, y_pred)\n",
    "\n",
    "print(f\"F1 Score: {f1:.4f}\")\n",
    "\n",
    "# Calculate accuracy for non-empty predictions\n",
    "non_empty_mask = (y_true == 1) & (y_pred == 1)\n",
    "correct_predictions = (predictions_df.loc[non_empty_mask, 'normalized_prediction'] == \n",
    "                       ground_truth_df.loc[non_empty_mask, 'normalized_ground_truth'])\n",
    "accuracy = correct_predictions.mean() if len(correct_predictions) > 0 else 0\n",
    "\n",
    "print(f\"Accuracy for non-empty predictions: {accuracy:.4f}\")\n",
    "\n",
    "# Display some example comparisons\n",
    "print(\"\\nExample comparisons:\")\n",
    "comparison_df = pd.DataFrame({\n",
    "    'Ground Truth': ground_truth_df['normalized_ground_truth'],\n",
    "    'Prediction': predictions_df['normalized_prediction']\n",
    "})\n",
    "print(comparison_df.head(10))\n"
   ]
  }
 ],
 "metadata": {
  "kernelspec": {
   "display_name": "Python 3",
   "language": "python",
   "name": "python3"
  },
  "language_info": {
   "codemirror_mode": {
    "name": "ipython",
    "version": 3
   },
   "file_extension": ".py",
   "mimetype": "text/x-python",
   "name": "python",
   "nbconvert_exporter": "python",
   "pygments_lexer": "ipython3",
   "version": "3.12.3"
  }
 },
 "nbformat": 4,
 "nbformat_minor": 2
}
